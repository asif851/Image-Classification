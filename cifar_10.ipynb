{
  "nbformat": 4,
  "nbformat_minor": 0,
  "metadata": {
    "colab": {
      "name": "cifar_10.ipynb",
      "provenance": [],
      "collapsed_sections": [],
      "authorship_tag": "ABX9TyNmKgo9EjWtOVzOCgcgZBYK"
    },
    "kernelspec": {
      "name": "python3",
      "display_name": "Python 3"
    },
    "language_info": {
      "name": "python"
    },
    "accelerator": "GPU"
  },
  "cells": [
    {
      "cell_type": "code",
      "metadata": {
        "id": "F-IlTsGLdTsh"
      },
      "source": [
        "import tensorflow as tf\n",
        "from tensorflow.keras import datasets, layers, models\n",
        "import matplotlib.pyplot as plt\n",
        "import numpy as np\n",
        "%matplotlib inline"
      ],
      "execution_count": null,
      "outputs": []
    },
    {
      "cell_type": "code",
      "metadata": {
        "id": "jHmeCAkrdX3E"
      },
      "source": [
        "(X_train, y_train), (X_test,y_test) = datasets.cifar10.load_data()"
      ],
      "execution_count": null,
      "outputs": []
    },
    {
      "cell_type": "code",
      "metadata": {
        "colab": {
          "base_uri": "https://localhost:8080/"
        },
        "id": "hdjxu74fdX6i",
        "outputId": "d189bf83-daf1-407c-ce3a-62111ee246a1"
      },
      "source": [
        "print('X_train Shape:',X_train.shape)\n",
        "print('X_test Shape:',X_test.shape)"
      ],
      "execution_count": null,
      "outputs": [
        {
          "output_type": "stream",
          "text": [
            "X_train Shape: (50000, 32, 32, 3)\n",
            "X_test Shape: (10000, 32, 32, 3)\n"
          ],
          "name": "stdout"
        }
      ]
    },
    {
      "cell_type": "code",
      "metadata": {
        "colab": {
          "base_uri": "https://localhost:8080/"
        },
        "id": "BE-pu39TdX-p",
        "outputId": "1f32f08f-0fd1-4cd2-dfe2-ebb7329a8be9"
      },
      "source": [
        "print(\"y_train Shape:\",y_train.shape)\n",
        "print(\"y_test Shape:\",y_test.shape)"
      ],
      "execution_count": null,
      "outputs": [
        {
          "output_type": "stream",
          "text": [
            "y_train Shape: (50000, 1)\n",
            "y_test Shape: (10000, 1)\n"
          ],
          "name": "stdout"
        }
      ]
    },
    {
      "cell_type": "code",
      "metadata": {
        "colab": {
          "base_uri": "https://localhost:8080/"
        },
        "id": "ZyHe9bjDdYAs",
        "outputId": "ccc9289f-fc31-462d-b85e-ae88d58f5bed"
      },
      "source": [
        "y_train[:5]"
      ],
      "execution_count": null,
      "outputs": [
        {
          "output_type": "execute_result",
          "data": {
            "text/plain": [
              "array([[6],\n",
              "       [9],\n",
              "       [9],\n",
              "       [4],\n",
              "       [1]], dtype=uint8)"
            ]
          },
          "metadata": {
            "tags": []
          },
          "execution_count": 129
        }
      ]
    },
    {
      "cell_type": "code",
      "metadata": {
        "colab": {
          "base_uri": "https://localhost:8080/"
        },
        "id": "erHRjVX8dvVv",
        "outputId": "b1f40d54-08f3-4bd7-8554-3ddd3462c257"
      },
      "source": [
        "# Converting into 1D-array\n",
        "\n",
        "y_train = y_train.reshape(-1,)\n",
        "y_train[:5]"
      ],
      "execution_count": null,
      "outputs": [
        {
          "output_type": "execute_result",
          "data": {
            "text/plain": [
              "array([6, 9, 9, 4, 1], dtype=uint8)"
            ]
          },
          "metadata": {
            "tags": []
          },
          "execution_count": 130
        }
      ]
    },
    {
      "cell_type": "code",
      "metadata": {
        "id": "QS0Ae-91dvZs",
        "colab": {
          "base_uri": "https://localhost:8080/"
        },
        "outputId": "d931c6b6-df2f-4f88-aab5-6b05d368c06d"
      },
      "source": [
        "y_test = y_test.reshape(-1,)\n",
        "y_test[:5]"
      ],
      "execution_count": null,
      "outputs": [
        {
          "output_type": "execute_result",
          "data": {
            "text/plain": [
              "array([3, 8, 8, 0, 6], dtype=uint8)"
            ]
          },
          "metadata": {
            "tags": []
          },
          "execution_count": 131
        }
      ]
    },
    {
      "cell_type": "code",
      "metadata": {
        "id": "GW8g7KbVdvcv"
      },
      "source": [
        "classes = [\"airplane\",\"automobile\",\"bird\",\"cat\",\"deer\",\"dog\",\"frog\",\"horse\",\"ship\",\"truck\"]  # https://www.cs.toronto.edu/~kriz/cifar.html"
      ],
      "execution_count": null,
      "outputs": []
    },
    {
      "cell_type": "code",
      "metadata": {
        "id": "AcEd28A_d168",
        "colab": {
          "base_uri": "https://localhost:8080/",
          "height": 173
        },
        "outputId": "a46b18f0-1e49-4a20-83d5-93f434c17dfa"
      },
      "source": [
        "def plot_sample(X, y, index):\n",
        "    plt.figure(figsize = (5,2))\n",
        "    plt.imshow(X[index])\n",
        "    plt.xlabel(classes[y[index]])\n",
        "\n",
        "plot_sample(X_train, y_train, 0)"
      ],
      "execution_count": null,
      "outputs": [
        {
          "output_type": "display_data",
          "data": {
            "image/png": "[encoded data removed]",
            "text/plain": [
              "<Figure size 360x144 with 1 Axes>"
            ]
          },
          "metadata": {
            "tags": [],
            "needs_background": "light"
          }
        }
      ]
    },
    {
      "cell_type": "code",
      "metadata": {
        "colab": {
          "base_uri": "https://localhost:8080/"
        },
        "id": "qIEsCYwzItj0",
        "outputId": "1804bfdd-8bdf-459d-cac1-03c9026b47b1"
      },
      "source": [
        "print(X_train.max())\n",
        "print(X_test.max())"
      ],
      "execution_count": null,
      "outputs": [
        {
          "output_type": "stream",
          "text": [
            "255\n",
            "255\n"
          ],
          "name": "stdout"
        }
      ]
    },
    {
      "cell_type": "code",
      "metadata": {
        "id": "ppa3yPaEeFKW"
      },
      "source": [
        "# Normalizing\n",
        "\n",
        "X_train = X_train / 255.0\n",
        "X_test = X_test / 255.0"
      ],
      "execution_count": null,
      "outputs": []
    },
    {
      "cell_type": "code",
      "metadata": {
        "id": "f_j1gjs6Z6vg"
      },
      "source": [
        "from tensorflow.keras import datasets, layers, models\n",
        "from tensorflow.keras.models import Sequential\n",
        "from tensorflow.keras.layers import Dense, Conv2D, MaxPool2D, Flatten, Dropout\n",
        "from tensorflow.keras.callbacks import EarlyStopping\n",
        "from sklearn.metrics import classification_report, confusion_matrix"
      ],
      "execution_count": null,
      "outputs": []
    },
    {
      "cell_type": "code",
      "metadata": {
        "id": "BgrhJ_ZPNt_h"
      },
      "source": [
        "model = Sequential()\n",
        "\n",
        "model.add(Conv2D(filters=32, kernel_size=(3,3),input_shape=(32, 32, 3), activation='relu'))\n",
        "model.add(layers.MaxPooling2D((2, 2)))\n",
        "\n",
        "model.add(Conv2D(filters=32, kernel_size=(3,3), activation='relu'))\n",
        "model.add(layers.MaxPooling2D((2, 2)))\n",
        "\n",
        "model.add(Flatten())\n",
        "model.add(Dense(128, activation='relu'))\n",
        "model.add(Dropout(0.3))\n",
        "model.add(Dense(64, activation='relu'))\n",
        "model.add(Dropout(0.2))\n",
        "model.add(Dense(32, activation='relu'))\n",
        "model.add(Dropout(0.2))\n",
        "model.add(Dense(10, activation='softmax'))\n",
        "\n",
        "\n",
        "model.compile(optimizer='adam',\n",
        "              loss='sparse_categorical_crossentropy',\n",
        "              metrics=['accuracy'])"
      ],
      "execution_count": null,
      "outputs": []
    },
    {
      "cell_type": "code",
      "metadata": {
        "colab": {
          "base_uri": "https://localhost:8080/"
        },
        "id": "vmKvHoC6La3Y",
        "outputId": "1c627863-74af-4f36-f2ab-82131f5ce50e"
      },
      "source": [
        "model.summary()"
      ],
      "execution_count": null,
      "outputs": [
        {
          "output_type": "stream",
          "text": [
            "Model: \"sequential_19\"\n",
            "_________________________________________________________________\n",
            "Layer (type)                 Output Shape              Param #   \n",
            "=================================================================\n",
            "conv2d_38 (Conv2D)           (None, 30, 30, 32)        896       \n",
            "_________________________________________________________________\n",
            "max_pooling2d_38 (MaxPooling (None, 15, 15, 32)        0         \n",
            "_________________________________________________________________\n",
            "conv2d_39 (Conv2D)           (None, 13, 13, 32)        9248      \n",
            "_________________________________________________________________\n",
            "max_pooling2d_39 (MaxPooling (None, 6, 6, 32)          0         \n",
            "_________________________________________________________________\n",
            "flatten_19 (Flatten)         (None, 1152)              0         \n",
            "_________________________________________________________________\n",
            "dense_73 (Dense)             (None, 128)               147584    \n",
            "_________________________________________________________________\n",
            "dropout_24 (Dropout)         (None, 128)               0         \n",
            "_________________________________________________________________\n",
            "dense_74 (Dense)             (None, 64)                8256      \n",
            "_________________________________________________________________\n",
            "dropout_25 (Dropout)         (None, 64)                0         \n",
            "_________________________________________________________________\n",
            "dense_75 (Dense)             (None, 32)                2080      \n",
            "_________________________________________________________________\n",
            "dropout_26 (Dropout)         (None, 32)                0         \n",
            "_________________________________________________________________\n",
            "dense_76 (Dense)             (None, 10)                330       \n",
            "=================================================================\n",
            "Total params: 168,394\n",
            "Trainable params: 168,394\n",
            "Non-trainable params: 0\n",
            "_________________________________________________________________\n"
          ],
          "name": "stdout"
        }
      ]
    },
    {
      "cell_type": "code",
      "metadata": {
        "colab": {
          "base_uri": "https://localhost:8080/"
        },
        "id": "IwKg974TeFd_",
        "outputId": "d1636630-59ef-4474-cbe9-760a0f173947"
      },
      "source": [
        "model.fit(X_train, y_train, epochs=25)"
      ],
      "execution_count": null,
      "outputs": [
        {
          "output_type": "stream",
          "text": [
            "Epoch 1/25\n",
            "1563/1563 [==============================] - 5s 3ms/step - loss: 1.9112 - accuracy: 0.2788\n",
            "Epoch 2/25\n",
            "1563/1563 [==============================] - 5s 3ms/step - loss: 1.4215 - accuracy: 0.4885\n",
            "Epoch 3/25\n",
            "1563/1563 [==============================] - 5s 3ms/step - loss: 1.2608 - accuracy: 0.5563\n",
            "Epoch 4/25\n",
            "1563/1563 [==============================] - 5s 3ms/step - loss: 1.1572 - accuracy: 0.5986\n",
            "Epoch 5/25\n",
            "1563/1563 [==============================] - 5s 3ms/step - loss: 1.0916 - accuracy: 0.6227\n",
            "Epoch 6/25\n",
            "1563/1563 [==============================] - 5s 3ms/step - loss: 1.0430 - accuracy: 0.6456\n",
            "Epoch 7/25\n",
            "1563/1563 [==============================] - 5s 3ms/step - loss: 0.9952 - accuracy: 0.6593\n",
            "Epoch 8/25\n",
            "1563/1563 [==============================] - 5s 3ms/step - loss: 0.9640 - accuracy: 0.6712\n",
            "Epoch 9/25\n",
            "1563/1563 [==============================] - 5s 3ms/step - loss: 0.9160 - accuracy: 0.6892\n",
            "Epoch 10/25\n",
            "1563/1563 [==============================] - 5s 3ms/step - loss: 0.8854 - accuracy: 0.6957\n",
            "Epoch 11/25\n",
            "1563/1563 [==============================] - 5s 3ms/step - loss: 0.8527 - accuracy: 0.7135\n",
            "Epoch 12/25\n",
            "1563/1563 [==============================] - 5s 3ms/step - loss: 0.8269 - accuracy: 0.7217\n",
            "Epoch 13/25\n",
            "1563/1563 [==============================] - 5s 3ms/step - loss: 0.8095 - accuracy: 0.7263\n",
            "Epoch 14/25\n",
            "1563/1563 [==============================] - 5s 3ms/step - loss: 0.7975 - accuracy: 0.7310\n",
            "Epoch 15/25\n",
            "1563/1563 [==============================] - 5s 3ms/step - loss: 0.7741 - accuracy: 0.7383\n",
            "Epoch 16/25\n",
            "1563/1563 [==============================] - 5s 3ms/step - loss: 0.7445 - accuracy: 0.7458\n",
            "Epoch 17/25\n",
            "1563/1563 [==============================] - 5s 3ms/step - loss: 0.7316 - accuracy: 0.7502\n",
            "Epoch 18/25\n",
            "1563/1563 [==============================] - 5s 3ms/step - loss: 0.7098 - accuracy: 0.7611\n",
            "Epoch 19/25\n",
            "1563/1563 [==============================] - 5s 3ms/step - loss: 0.7014 - accuracy: 0.7610\n",
            "Epoch 20/25\n",
            "1563/1563 [==============================] - 5s 3ms/step - loss: 0.6829 - accuracy: 0.7706\n",
            "Epoch 21/25\n",
            "1563/1563 [==============================] - 5s 3ms/step - loss: 0.6788 - accuracy: 0.7687\n",
            "Epoch 22/25\n",
            "1563/1563 [==============================] - 5s 3ms/step - loss: 0.6607 - accuracy: 0.7745\n",
            "Epoch 23/25\n",
            "1563/1563 [==============================] - 5s 3ms/step - loss: 0.6565 - accuracy: 0.7786\n",
            "Epoch 24/25\n",
            "1563/1563 [==============================] - 5s 3ms/step - loss: 0.6442 - accuracy: 0.7819\n",
            "Epoch 25/25\n",
            "1563/1563 [==============================] - 5s 3ms/step - loss: 0.6276 - accuracy: 0.7875\n"
          ],
          "name": "stdout"
        },
        {
          "output_type": "execute_result",
          "data": {
            "text/plain": [
              "<tensorflow.python.keras.callbacks.History at 0x7f156e60ca50>"
            ]
          },
          "metadata": {
            "tags": []
          },
          "execution_count": 139
        }
      ]
    },
    {
      "cell_type": "code",
      "metadata": {
        "colab": {
          "base_uri": "https://localhost:8080/"
        },
        "id": "3TOiPQYg9cjw",
        "outputId": "a0d5f6c3-33ae-4591-acdd-99ffff2dea4e"
      },
      "source": [
        "model.evaluate(X_test,y_test)"
      ],
      "execution_count": null,
      "outputs": [
        {
          "output_type": "stream",
          "text": [
            "313/313 [==============================] - 1s 2ms/step - loss: 1.0160 - accuracy: 0.6850\n"
          ],
          "name": "stdout"
        },
        {
          "output_type": "execute_result",
          "data": {
            "text/plain": [
              "[1.0160439014434814, 0.6850000023841858]"
            ]
          },
          "metadata": {
            "tags": []
          },
          "execution_count": 147
        }
      ]
    },
    {
      "cell_type": "code",
      "metadata": {
        "id": "p_nXu3utp7mv",
        "colab": {
          "base_uri": "https://localhost:8080/"
        },
        "outputId": "0563bab5-7c2b-463b-a027-03fe7eed18ed"
      },
      "source": [
        "y_pred = model.predict(X_test)\n",
        "y_pred_classes = [np.argmax(element) for element in y_pred]\n",
        "\n",
        "print(\"Classification Report:  \\n\", classification_report(y_test, y_pred_classes))"
      ],
      "execution_count": null,
      "outputs": [
        {
          "output_type": "stream",
          "text": [
            "Classification Report:  \n",
            "               precision    recall  f1-score   support\n",
            "\n",
            "           0       0.67      0.81      0.73      1000\n",
            "           1       0.72      0.89      0.80      1000\n",
            "           2       0.63      0.50      0.56      1000\n",
            "           3       0.49      0.48      0.48      1000\n",
            "           4       0.69      0.60      0.64      1000\n",
            "           5       0.59      0.57      0.58      1000\n",
            "           6       0.75      0.78      0.76      1000\n",
            "           7       0.75      0.73      0.74      1000\n",
            "           8       0.81      0.76      0.79      1000\n",
            "           9       0.75      0.74      0.74      1000\n",
            "\n",
            "    accuracy                           0.69     10000\n",
            "   macro avg       0.68      0.69      0.68     10000\n",
            "weighted avg       0.68      0.69      0.68     10000\n",
            "\n"
          ],
          "name": "stdout"
        }
      ]
    },
    {
      "cell_type": "code",
      "metadata": {
        "id": "7XVEaJCPeuoZ",
        "colab": {
          "base_uri": "https://localhost:8080/"
        },
        "outputId": "69c05c82-e01e-460a-ce8d-6dc2e77260c7"
      },
      "source": [
        "y_pred = model.predict(X_test)\n",
        "y_pred[:5]"
      ],
      "execution_count": null,
      "outputs": [
        {
          "output_type": "execute_result",
          "data": {
            "text/plain": [
              "array([[9.87192616e-05, 5.68198193e-05, 5.47717512e-03, 8.25985968e-01,\n",
              "        5.00032632e-03, 2.83175576e-02, 1.32059470e-01, 5.71060809e-04,\n",
              "        2.07744050e-03, 3.55433411e-04],\n",
              "       [3.74732004e-03, 6.87164426e-01, 3.29486147e-06, 9.48728527e-08,\n",
              "        8.10181433e-08, 3.68049036e-09, 2.78276093e-06, 4.98331099e-10,\n",
              "        2.95451462e-01, 1.36305578e-02],\n",
              "       [4.74762395e-02, 7.75587857e-01, 1.85262482e-03, 6.28618989e-04,\n",
              "        3.92313785e-04, 1.16356474e-04, 6.48962683e-04, 1.95319051e-04,\n",
              "        3.92172188e-02, 1.33884400e-01],\n",
              "       [9.98545647e-01, 1.48120557e-06, 3.95050301e-04, 4.71239758e-07,\n",
              "        1.76424437e-05, 1.72879289e-09, 3.04185011e-09, 2.45456775e-08,\n",
              "        1.03753072e-03, 2.29420607e-06],\n",
              "       [4.58267069e-09, 1.36185303e-08, 1.72861633e-04, 3.47479101e-04,\n",
              "        6.67973841e-03, 1.66552254e-05, 9.92783070e-01, 1.06352566e-07,\n",
              "        8.64818772e-11, 2.62188671e-09]], dtype=float32)"
            ]
          },
          "metadata": {
            "tags": []
          },
          "execution_count": 142
        }
      ]
    },
    {
      "cell_type": "code",
      "metadata": {
        "id": "BZFcEz0BezWm",
        "colab": {
          "base_uri": "https://localhost:8080/"
        },
        "outputId": "ef07938e-e458-4648-ca99-42eb98c625a1"
      },
      "source": [
        "y_classes = [np.argmax(element) for element in y_pred]\n",
        "y_classes[:5]"
      ],
      "execution_count": null,
      "outputs": [
        {
          "output_type": "execute_result",
          "data": {
            "text/plain": [
              "[3, 1, 1, 0, 6]"
            ]
          },
          "metadata": {
            "tags": []
          },
          "execution_count": 143
        }
      ]
    },
    {
      "cell_type": "code",
      "metadata": {
        "id": "ZJycjrd3ezZY",
        "colab": {
          "base_uri": "https://localhost:8080/"
        },
        "outputId": "5ee25062-a6c3-4db1-f268-e03da2393ea2"
      },
      "source": [
        "y_test[:5]"
      ],
      "execution_count": null,
      "outputs": [
        {
          "output_type": "execute_result",
          "data": {
            "text/plain": [
              "array([3, 8, 8, 0, 6], dtype=uint8)"
            ]
          },
          "metadata": {
            "tags": []
          },
          "execution_count": 144
        }
      ]
    },
    {
      "cell_type": "code",
      "metadata": {
        "id": "2kkGGGb_ezcL",
        "colab": {
          "base_uri": "https://localhost:8080/",
          "height": 173
        },
        "outputId": "d3e4a8cd-84c8-4181-ea13-0fb41541571d"
      },
      "source": [
        "plot_sample(X_test, y_test,0)"
      ],
      "execution_count": null,
      "outputs": [
        {
          "output_type": "display_data",
          "data": {
            "image/png": "[encoded data removed]",
            "text/plain": [
              "<Figure size 360x144 with 1 Axes>"
            ]
          },
          "metadata": {
            "tags": [],
            "needs_background": "light"
          }
        }
      ]
    },
    {
      "cell_type": "code",
      "metadata": {
        "colab": {
          "base_uri": "https://localhost:8080/",
          "height": 35
        },
        "id": "jKIqRedOr5pl",
        "outputId": "b947469b-ae95-4632-82ef-1bf8e922194f"
      },
      "source": [
        "classes[y_classes[0]]"
      ],
      "execution_count": null,
      "outputs": [
        {
          "output_type": "execute_result",
          "data": {
            "application/vnd.google.colaboratory.intrinsic+json": {
              "type": "string"
            },
            "text/plain": [
              "'cat'"
            ]
          },
          "metadata": {
            "tags": []
          },
          "execution_count": 146
        }
      ]
    }
  ]
}