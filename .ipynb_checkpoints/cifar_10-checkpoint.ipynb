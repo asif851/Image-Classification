{
 "cells": [
  {
   "cell_type": "code",
   "execution_count": 1,
   "metadata": {
    "id": "F-IlTsGLdTsh"
   },
   "outputs": [
    {
     "name": "stderr",
     "output_type": "stream",
     "text": [
      "2023-03-06 17:08:28.447123: I tensorflow/core/platform/cpu_feature_guard.cc:193] This TensorFlow binary is optimized with oneAPI Deep Neural Network Library (oneDNN) to use the following CPU instructions in performance-critical operations:  AVX2 AVX512F AVX512_VNNI FMA\n",
      "To enable them in other operations, rebuild TensorFlow with the appropriate compiler flags.\n",
      "2023-03-06 17:08:28.531642: I tensorflow/core/util/port.cc:104] oneDNN custom operations are on. You may see slightly different numerical results due to floating-point round-off errors from different computation orders. To turn them off, set the environment variable `TF_ENABLE_ONEDNN_OPTS=0`.\n",
      "2023-03-06 17:08:28.534105: W tensorflow/compiler/xla/stream_executor/platform/default/dso_loader.cc:64] Could not load dynamic library 'libcudart.so.11.0'; dlerror: libcudart.so.11.0: cannot open shared object file: No such file or directory\n",
      "2023-03-06 17:08:28.534119: I tensorflow/compiler/xla/stream_executor/cuda/cudart_stub.cc:29] Ignore above cudart dlerror if you do not have a GPU set up on your machine.\n",
      "2023-03-06 17:08:29.140836: W tensorflow/compiler/xla/stream_executor/platform/default/dso_loader.cc:64] Could not load dynamic library 'libnvinfer.so.7'; dlerror: libnvinfer.so.7: cannot open shared object file: No such file or directory\n",
      "2023-03-06 17:08:29.140893: W tensorflow/compiler/xla/stream_executor/platform/default/dso_loader.cc:64] Could not load dynamic library 'libnvinfer_plugin.so.7'; dlerror: libnvinfer_plugin.so.7: cannot open shared object file: No such file or directory\n",
      "2023-03-06 17:08:29.140897: W tensorflow/compiler/tf2tensorrt/utils/py_utils.cc:38] TF-TRT Warning: Cannot dlopen some TensorRT libraries. If you would like to use Nvidia GPU with TensorRT, please make sure the missing libraries mentioned above are installed properly.\n"
     ]
    }
   ],
   "source": [
    "import tensorflow as tf\n",
    "from tensorflow.keras import datasets, layers, models\n",
    "import matplotlib.pyplot as plt\n",
    "import numpy as np\n",
    "%matplotlib inline"
   ]
  },
  {
   "cell_type": "code",
   "execution_count": 2,
   "metadata": {
    "id": "jHmeCAkrdX3E"
   },
   "outputs": [],
   "source": [
    "(X_train, y_train), (X_test,y_test) = datasets.cifar10.load_data()"
   ]
  },
  {
   "cell_type": "code",
   "execution_count": 3,
   "metadata": {
    "colab": {
     "base_uri": "https://localhost:8080/"
    },
    "id": "hdjxu74fdX6i",
    "outputId": "d189bf83-daf1-407c-ce3a-62111ee246a1"
   },
   "outputs": [
    {
     "name": "stdout",
     "output_type": "stream",
     "text": [
      "X_train Shape: (50000, 32, 32, 3)\n",
      "X_test Shape: (10000, 32, 32, 3)\n"
     ]
    }
   ],
   "source": [
    "print('X_train Shape:',X_train.shape)\n",
    "print('X_test Shape:',X_test.shape)"
   ]
  },
  {
   "cell_type": "code",
   "execution_count": 4,
   "metadata": {
    "colab": {
     "base_uri": "https://localhost:8080/"
    },
    "id": "BE-pu39TdX-p",
    "outputId": "1f32f08f-0fd1-4cd2-dfe2-ebb7329a8be9"
   },
   "outputs": [
    {
     "name": "stdout",
     "output_type": "stream",
     "text": [
      "y_train Shape: (50000, 1)\n",
      "y_test Shape: (10000, 1)\n"
     ]
    }
   ],
   "source": [
    "print(\"y_train Shape:\",y_train.shape)\n",
    "print(\"y_test Shape:\",y_test.shape)"
   ]
  },
  {
   "cell_type": "code",
   "execution_count": 5,
   "metadata": {
    "colab": {
     "base_uri": "https://localhost:8080/"
    },
    "id": "ZyHe9bjDdYAs",
    "outputId": "ccc9289f-fc31-462d-b85e-ae88d58f5bed"
   },
   "outputs": [
    {
     "data": {
      "text/plain": [
       "array([[6],\n",
       "       [9],\n",
       "       [9],\n",
       "       [4],\n",
       "       [1]], dtype=uint8)"
      ]
     },
     "execution_count": 5,
     "metadata": {},
     "output_type": "execute_result"
    }
   ],
   "source": [
    "y_train[:5]"
   ]
  },
  {
   "cell_type": "code",
   "execution_count": 6,
   "metadata": {
    "colab": {
     "base_uri": "https://localhost:8080/"
    },
    "id": "erHRjVX8dvVv",
    "outputId": "b1f40d54-08f3-4bd7-8554-3ddd3462c257"
   },
   "outputs": [
    {
     "data": {
      "text/plain": [
       "array([6, 9, 9, 4, 1], dtype=uint8)"
      ]
     },
     "execution_count": 6,
     "metadata": {},
     "output_type": "execute_result"
    }
   ],
   "source": [
    "# Converting into 1D-array\n",
    "\n",
    "y_train = y_train.reshape(-1,)\n",
    "y_train[:5]"
   ]
  },
  {
   "cell_type": "code",
   "execution_count": 7,
   "metadata": {
    "colab": {
     "base_uri": "https://localhost:8080/"
    },
    "id": "QS0Ae-91dvZs",
    "outputId": "d931c6b6-df2f-4f88-aab5-6b05d368c06d"
   },
   "outputs": [
    {
     "data": {
      "text/plain": [
       "array([3, 8, 8, 0, 6], dtype=uint8)"
      ]
     },
     "execution_count": 7,
     "metadata": {},
     "output_type": "execute_result"
    }
   ],
   "source": [
    "y_test = y_test.reshape(-1,)\n",
    "y_test[:5]"
   ]
  },
  {
   "cell_type": "code",
   "execution_count": 8,
   "metadata": {
    "id": "GW8g7KbVdvcv"
   },
   "outputs": [],
   "source": [
    "classes = [\"airplane\",\"automobile\",\"bird\",\"cat\",\"deer\",\"dog\",\"frog\",\"horse\",\"ship\",\"truck\"]  # https://www.cs.toronto.edu/~kriz/cifar.html"
   ]
  },
  {
   "cell_type": "code",
   "execution_count": 9,
   "metadata": {
    "colab": {
     "base_uri": "https://localhost:8080/",
     "height": 173
    },
    "id": "AcEd28A_d168",
    "outputId": "a46b18f0-1e49-4a20-83d5-93f434c17dfa"
   },
   "outputs": [
    {
     "data": {
      "image/png": "[encoded data removed]",
      "text/plain": [
       "<Figure size 500x200 with 1 Axes>"
      ]
     },
     "metadata": {},
     "output_type": "display_data"
    }
   ],
   "source": [
    "def plot_sample(X, y, index):\n",
    "    plt.figure(figsize = (5,2))\n",
    "    plt.imshow(X[index])\n",
    "    plt.xlabel(classes[y[index]])\n",
    "\n",
    "plot_sample(X_train, y_train, 0)"
   ]
  },
  {
   "cell_type": "code",
   "execution_count": 10,
   "metadata": {
    "colab": {
     "base_uri": "https://localhost:8080/"
    },
    "id": "qIEsCYwzItj0",
    "outputId": "1804bfdd-8bdf-459d-cac1-03c9026b47b1"
   },
   "outputs": [
    {
     "name": "stdout",
     "output_type": "stream",
     "text": [
      "255\n",
      "255\n"
     ]
    }
   ],
   "source": [
    "print(X_train.max())\n",
    "print(X_test.max())"
   ]
  },
  {
   "cell_type": "code",
   "execution_count": 11,
   "metadata": {
    "id": "ppa3yPaEeFKW"
   },
   "outputs": [],
   "source": [
    "# Normalizing\n",
    "\n",
    "X_train = X_train / 255.0\n",
    "X_test = X_test / 255.0"
   ]
  },
  {
   "cell_type": "code",
   "execution_count": 12,
   "metadata": {
    "id": "f_j1gjs6Z6vg"
   },
   "outputs": [],
   "source": [
    "from tensorflow.keras import datasets, layers, models\n",
    "from tensorflow.keras.models import Sequential\n",
    "from tensorflow.keras.layers import Dense, Conv2D, MaxPool2D, Flatten, Dropout\n",
    "from tensorflow.keras.callbacks import EarlyStopping\n",
    "from sklearn.metrics import classification_report, confusion_matrix"
   ]
  },
  {
   "cell_type": "code",
   "execution_count": 13,
   "metadata": {
    "id": "BgrhJ_ZPNt_h"
   },
   "outputs": [
    {
     "name": "stderr",
     "output_type": "stream",
     "text": [
      "2023-03-06 17:08:31.504124: I tensorflow/compiler/xla/stream_executor/cuda/cuda_gpu_executor.cc:981] successful NUMA node read from SysFS had negative value (-1), but there must be at least one NUMA node, so returning NUMA node zero\n",
      "2023-03-06 17:08:31.504506: W tensorflow/compiler/xla/stream_executor/platform/default/dso_loader.cc:64] Could not load dynamic library 'libcudart.so.11.0'; dlerror: libcudart.so.11.0: cannot open shared object file: No such file or directory\n",
      "2023-03-06 17:08:31.504595: W tensorflow/compiler/xla/stream_executor/platform/default/dso_loader.cc:64] Could not load dynamic library 'libcublas.so.11'; dlerror: libcublas.so.11: cannot open shared object file: No such file or directory\n",
      "2023-03-06 17:08:31.504665: W tensorflow/compiler/xla/stream_executor/platform/default/dso_loader.cc:64] Could not load dynamic library 'libcublasLt.so.11'; dlerror: libcublasLt.so.11: cannot open shared object file: No such file or directory\n",
      "2023-03-06 17:08:31.504737: W tensorflow/compiler/xla/stream_executor/platform/default/dso_loader.cc:64] Could not load dynamic library 'libcufft.so.10'; dlerror: libcufft.so.10: cannot open shared object file: No such file or directory\n",
      "2023-03-06 17:08:31.504806: W tensorflow/compiler/xla/stream_executor/platform/default/dso_loader.cc:64] Could not load dynamic library 'libcurand.so.10'; dlerror: libcurand.so.10: cannot open shared object file: No such file or directory\n",
      "2023-03-06 17:08:31.504874: W tensorflow/compiler/xla/stream_executor/platform/default/dso_loader.cc:64] Could not load dynamic library 'libcusolver.so.11'; dlerror: libcusolver.so.11: cannot open shared object file: No such file or directory\n",
      "2023-03-06 17:08:31.504942: W tensorflow/compiler/xla/stream_executor/platform/default/dso_loader.cc:64] Could not load dynamic library 'libcusparse.so.11'; dlerror: libcusparse.so.11: cannot open shared object file: No such file or directory\n",
      "2023-03-06 17:08:31.505009: W tensorflow/compiler/xla/stream_executor/platform/default/dso_loader.cc:64] Could not load dynamic library 'libcudnn.so.8'; dlerror: libcudnn.so.8: cannot open shared object file: No such file or directory\n",
      "2023-03-06 17:08:31.505022: W tensorflow/core/common_runtime/gpu/gpu_device.cc:1934] Cannot dlopen some GPU libraries. Please make sure the missing libraries mentioned above are installed properly if you would like to use GPU. Follow the guide at https://www.tensorflow.org/install/gpu for how to download and setup the required libraries for your platform.\n",
      "Skipping registering GPU devices...\n",
      "2023-03-06 17:08:31.505772: I tensorflow/core/platform/cpu_feature_guard.cc:193] This TensorFlow binary is optimized with oneAPI Deep Neural Network Library (oneDNN) to use the following CPU instructions in performance-critical operations:  AVX2 AVX512F AVX512_VNNI FMA\n",
      "To enable them in other operations, rebuild TensorFlow with the appropriate compiler flags.\n"
     ]
    }
   ],
   "source": [
    "model = Sequential()\n",
    "\n",
    "model.add(Conv2D(filters=32, kernel_size=(3,3),input_shape=(32, 32, 3), activation='relu'))\n",
    "model.add(layers.MaxPooling2D((2, 2)))\n",
    "\n",
    "model.add(Conv2D(filters=32, kernel_size=(3,3), activation='relu'))\n",
    "model.add(layers.MaxPooling2D((2, 2)))\n",
    "\n",
    "model.add(Flatten())\n",
    "model.add(Dense(128, activation='relu'))\n",
    "model.add(Dropout(0.3))\n",
    "model.add(Dense(64, activation='relu'))\n",
    "model.add(Dropout(0.2))\n",
    "model.add(Dense(32, activation='relu'))\n",
    "model.add(Dropout(0.2))\n",
    "model.add(Dense(10, activation='softmax'))\n",
    "\n",
    "\n",
    "model.compile(optimizer='adam',\n",
    "              loss='sparse_categorical_crossentropy',\n",
    "              metrics=['accuracy'])"
   ]
  },
  {
   "cell_type": "code",
   "execution_count": 14,
   "metadata": {},
   "outputs": [
    {
     "name": "stdout",
     "output_type": "stream",
     "text": [
      "Epoch 1/100\n",
      "1563/1563 [==============================] - 13s 8ms/step - loss: 1.7526 - accuracy: 0.3503\n",
      "Epoch 2/100\n",
      "1563/1563 [==============================] - 13s 8ms/step - loss: 1.3602 - accuracy: 0.5179\n",
      "Epoch 3/100\n",
      "1563/1563 [==============================] - 11s 7ms/step - loss: 1.2375 - accuracy: 0.5691\n",
      "Epoch 4/100\n",
      "1563/1563 [==============================] - 13s 9ms/step - loss: 1.1561 - accuracy: 0.6004\n",
      "Epoch 5/100\n",
      "1563/1563 [==============================] - 11s 7ms/step - loss: 1.0926 - accuracy: 0.6246\n",
      "Epoch 6/100\n",
      "1563/1563 [==============================] - 11s 7ms/step - loss: 1.0438 - accuracy: 0.6429\n",
      "Epoch 7/100\n",
      "1563/1563 [==============================] - 11s 7ms/step - loss: 1.0026 - accuracy: 0.6606\n",
      "Epoch 8/100\n",
      "1563/1563 [==============================] - 14s 9ms/step - loss: 0.9649 - accuracy: 0.6716\n",
      "Epoch 9/100\n",
      "1563/1563 [==============================] - 11s 7ms/step - loss: 0.9320 - accuracy: 0.6837\n",
      "Epoch 10/100\n",
      "1563/1563 [==============================] - 11s 7ms/step - loss: 0.9024 - accuracy: 0.6938\n",
      "Epoch 11/100\n",
      "1563/1563 [==============================] - 11s 7ms/step - loss: 0.8712 - accuracy: 0.7044\n",
      "Epoch 12/100\n",
      "1563/1563 [==============================] - 11s 7ms/step - loss: 0.8498 - accuracy: 0.7098\n",
      "Epoch 13/100\n",
      "1563/1563 [==============================] - 12s 7ms/step - loss: 0.8280 - accuracy: 0.7182\n",
      "Epoch 14/100\n",
      "1563/1563 [==============================] - 15s 9ms/step - loss: 0.8033 - accuracy: 0.7258\n",
      "Epoch 15/100\n",
      "1563/1563 [==============================] - 11s 7ms/step - loss: 0.7874 - accuracy: 0.7319\n",
      "Epoch 16/100\n",
      "1563/1563 [==============================] - 12s 8ms/step - loss: 0.7789 - accuracy: 0.7355\n",
      "Epoch 17/100\n",
      "1563/1563 [==============================] - 12s 7ms/step - loss: 0.7532 - accuracy: 0.7457\n",
      "Epoch 18/100\n",
      "1563/1563 [==============================] - 11s 7ms/step - loss: 0.7434 - accuracy: 0.7483\n",
      "Epoch 19/100\n",
      "1563/1563 [==============================] - 11s 7ms/step - loss: 0.7336 - accuracy: 0.7526\n",
      "Epoch 20/100\n",
      "1563/1563 [==============================] - 11s 7ms/step - loss: 0.7166 - accuracy: 0.7568\n",
      "Epoch 21/100\n",
      "1563/1563 [==============================] - 11s 7ms/step - loss: 0.7033 - accuracy: 0.7619\n",
      "Epoch 22/100\n",
      "1563/1563 [==============================] - 11s 7ms/step - loss: 0.6864 - accuracy: 0.7648\n",
      "Epoch 23/100\n",
      "1563/1563 [==============================] - 12s 7ms/step - loss: 0.6723 - accuracy: 0.7708\n",
      "Epoch 24/100\n",
      "1563/1563 [==============================] - 11s 7ms/step - loss: 0.6619 - accuracy: 0.7753\n",
      "Epoch 25/100\n",
      "1563/1563 [==============================] - 11s 7ms/step - loss: 0.6584 - accuracy: 0.7780\n",
      "Epoch 26/100\n",
      "1563/1563 [==============================] - 11s 7ms/step - loss: 0.6458 - accuracy: 0.7806\n",
      "Epoch 27/100\n",
      "1563/1563 [==============================] - 11s 7ms/step - loss: 0.6328 - accuracy: 0.7837\n",
      "Epoch 28/100\n",
      "1563/1563 [==============================] - 11s 7ms/step - loss: 0.6288 - accuracy: 0.7843\n",
      "Epoch 29/100\n",
      "1563/1563 [==============================] - 11s 7ms/step - loss: 0.6218 - accuracy: 0.7887\n",
      "Epoch 30/100\n",
      "1563/1563 [==============================] - 11s 7ms/step - loss: 0.6110 - accuracy: 0.7918\n",
      "Epoch 31/100\n",
      "1563/1563 [==============================] - 11s 7ms/step - loss: 0.6056 - accuracy: 0.7976\n",
      "Epoch 32/100\n",
      "1563/1563 [==============================] - 11s 7ms/step - loss: 0.5906 - accuracy: 0.8006\n",
      "Epoch 33/100\n",
      "1563/1563 [==============================] - 11s 7ms/step - loss: 0.5867 - accuracy: 0.7991\n",
      "Epoch 34/100\n",
      "1563/1563 [==============================] - 12s 8ms/step - loss: 0.5832 - accuracy: 0.8003\n",
      "Epoch 35/100\n",
      "1563/1563 [==============================] - 11s 7ms/step - loss: 0.5755 - accuracy: 0.8025\n",
      "Epoch 36/100\n",
      "1563/1563 [==============================] - 11s 7ms/step - loss: 0.5608 - accuracy: 0.8081\n",
      "Epoch 37/100\n",
      "1563/1563 [==============================] - 11s 7ms/step - loss: 0.5690 - accuracy: 0.8056\n",
      "Epoch 38/100\n",
      "1563/1563 [==============================] - 11s 7ms/step - loss: 0.5560 - accuracy: 0.8109\n",
      "Epoch 39/100\n",
      "1563/1563 [==============================] - 11s 7ms/step - loss: 0.5511 - accuracy: 0.8143\n",
      "Epoch 40/100\n",
      "1563/1563 [==============================] - 11s 7ms/step - loss: 0.5474 - accuracy: 0.8137\n",
      "Epoch 41/100\n",
      "1563/1563 [==============================] - 11s 7ms/step - loss: 0.5446 - accuracy: 0.8150\n",
      "Epoch 42/100\n",
      "1563/1563 [==============================] - 11s 7ms/step - loss: 0.5270 - accuracy: 0.8197\n",
      "Epoch 43/100\n",
      "1563/1563 [==============================] - 11s 7ms/step - loss: 0.5335 - accuracy: 0.8186\n",
      "Epoch 44/100\n",
      "1563/1563 [==============================] - 12s 8ms/step - loss: 0.5269 - accuracy: 0.8211\n",
      "Epoch 45/100\n",
      "1563/1563 [==============================] - 12s 8ms/step - loss: 0.5108 - accuracy: 0.8258\n",
      "Epoch 46/100\n",
      "1563/1563 [==============================] - 11s 7ms/step - loss: 0.5116 - accuracy: 0.8263\n",
      "Epoch 47/100\n",
      "1563/1563 [==============================] - 12s 8ms/step - loss: 0.5097 - accuracy: 0.8266\n",
      "Epoch 48/100\n",
      "1563/1563 [==============================] - 11s 7ms/step - loss: 0.5084 - accuracy: 0.8266\n",
      "Epoch 49/100\n",
      "1563/1563 [==============================] - 11s 7ms/step - loss: 0.5060 - accuracy: 0.8271\n",
      "Epoch 50/100\n",
      "1563/1563 [==============================] - 11s 7ms/step - loss: 0.5001 - accuracy: 0.8312\n",
      "Epoch 51/100\n",
      "1563/1563 [==============================] - 11s 7ms/step - loss: 0.4905 - accuracy: 0.8325\n",
      "Epoch 52/100\n",
      "1563/1563 [==============================] - 11s 7ms/step - loss: 0.4924 - accuracy: 0.8342\n",
      "Epoch 53/100\n",
      "1563/1563 [==============================] - 11s 7ms/step - loss: 0.4892 - accuracy: 0.8333\n",
      "Epoch 54/100\n",
      "1563/1563 [==============================] - 11s 7ms/step - loss: 0.4796 - accuracy: 0.8387\n",
      "Epoch 55/100\n",
      "1563/1563 [==============================] - 11s 7ms/step - loss: 0.4765 - accuracy: 0.8394\n",
      "Epoch 56/100\n",
      "1563/1563 [==============================] - 11s 7ms/step - loss: 0.4749 - accuracy: 0.8372\n",
      "Epoch 57/100\n",
      "1563/1563 [==============================] - 12s 8ms/step - loss: 0.4641 - accuracy: 0.8420\n",
      "Epoch 58/100\n",
      "1563/1563 [==============================] - 11s 7ms/step - loss: 0.4650 - accuracy: 0.8422\n",
      "Epoch 59/100\n",
      "1563/1563 [==============================] - 11s 7ms/step - loss: 0.4636 - accuracy: 0.8424\n",
      "Epoch 60/100\n",
      "1563/1563 [==============================] - 11s 7ms/step - loss: 0.4617 - accuracy: 0.8427\n",
      "Epoch 61/100\n",
      "1563/1563 [==============================] - 11s 7ms/step - loss: 0.4592 - accuracy: 0.8431\n",
      "Epoch 62/100\n",
      "1563/1563 [==============================] - 11s 7ms/step - loss: 0.4613 - accuracy: 0.8449\n",
      "Epoch 63/100\n",
      "1563/1563 [==============================] - 11s 7ms/step - loss: 0.4497 - accuracy: 0.8486\n",
      "Epoch 64/100\n",
      "1563/1563 [==============================] - 11s 7ms/step - loss: 0.4554 - accuracy: 0.8455\n",
      "Epoch 65/100\n",
      "1563/1563 [==============================] - 11s 7ms/step - loss: 0.4471 - accuracy: 0.8469\n",
      "Epoch 66/100\n",
      "1563/1563 [==============================] - 11s 7ms/step - loss: 0.4436 - accuracy: 0.8512\n",
      "Epoch 67/100\n",
      "1563/1563 [==============================] - 12s 7ms/step - loss: 0.4377 - accuracy: 0.8519\n",
      "Epoch 68/100\n",
      "1563/1563 [==============================] - 11s 7ms/step - loss: 0.4368 - accuracy: 0.8520\n",
      "Epoch 69/100\n",
      "1563/1563 [==============================] - 11s 7ms/step - loss: 0.4374 - accuracy: 0.8527\n",
      "Epoch 70/100\n",
      "1563/1563 [==============================] - 11s 7ms/step - loss: 0.4400 - accuracy: 0.8528\n",
      "Epoch 71/100\n",
      "1563/1563 [==============================] - 11s 7ms/step - loss: 0.4348 - accuracy: 0.8531\n",
      "Epoch 72/100\n",
      "1563/1563 [==============================] - 11s 7ms/step - loss: 0.4292 - accuracy: 0.8553\n",
      "Epoch 73/100\n",
      "1563/1563 [==============================] - 11s 7ms/step - loss: 0.4262 - accuracy: 0.8564\n",
      "Epoch 74/100\n",
      "1563/1563 [==============================] - 12s 7ms/step - loss: 0.4272 - accuracy: 0.8560\n",
      "Epoch 75/100\n",
      "1563/1563 [==============================] - 11s 7ms/step - loss: 0.4218 - accuracy: 0.8584\n",
      "Epoch 76/100\n",
      "1563/1563 [==============================] - 11s 7ms/step - loss: 0.4175 - accuracy: 0.8583\n",
      "Epoch 77/100\n",
      "1563/1563 [==============================] - 11s 7ms/step - loss: 0.4145 - accuracy: 0.8611\n",
      "Epoch 78/100\n",
      "1563/1563 [==============================] - 11s 7ms/step - loss: 0.4131 - accuracy: 0.8608\n",
      "Epoch 79/100\n"
     ]
    },
    {
     "name": "stdout",
     "output_type": "stream",
     "text": [
      "1563/1563 [==============================] - 11s 7ms/step - loss: 0.4128 - accuracy: 0.8603\n",
      "Epoch 80/100\n",
      "1563/1563 [==============================] - 11s 7ms/step - loss: 0.4075 - accuracy: 0.8619\n",
      "Epoch 81/100\n",
      "1563/1563 [==============================] - 12s 7ms/step - loss: 0.4070 - accuracy: 0.8650\n",
      "Epoch 82/100\n",
      "1563/1563 [==============================] - 13s 8ms/step - loss: 0.4083 - accuracy: 0.8626\n",
      "Epoch 83/100\n",
      "1563/1563 [==============================] - 11s 7ms/step - loss: 0.4075 - accuracy: 0.8640\n",
      "Epoch 84/100\n",
      "1563/1563 [==============================] - 12s 8ms/step - loss: 0.4022 - accuracy: 0.8642\n",
      "Epoch 85/100\n",
      "1482/1563 [===========================>..] - ETA: 0s - loss: 0.4004 - accuracy: 0.8647"
     ]
    }
   ],
   "source": [
    "model.fit(X_train, y_train,epochs=100)"
   ]
  },
  {
   "cell_type": "code",
   "execution_count": 15,
   "metadata": {
    "colab": {
     "base_uri": "https://localhost:8080/"
    },
    "id": "3TOiPQYg9cjw",
    "outputId": "a0d5f6c3-33ae-4591-acdd-99ffff2dea4e"
   },
   "outputs": [],
   "source": [
    "model.evaluate(X_test,y_test)"
   ]
  },
  {
   "cell_type": "code",
   "execution_count": 16,
   "metadata": {
    "colab": {
     "base_uri": "https://localhost:8080/"
    },
    "id": "p_nXu3utp7mv",
    "outputId": "0563bab5-7c2b-463b-a027-03fe7eed18ed"
   },
   "outputs": [],
   "source": [
    "y_pred = model.predict(X_test)\n",
    "y_pred_classes = [np.argmax(element) for element in y_pred]\n",
    "\n",
    "print(\"Classification Report:  \\n\", classification_report(y_test, y_pred_classes))"
   ]
  },
  {
   "cell_type": "code",
   "execution_count": 17,
   "metadata": {
    "colab": {
     "base_uri": "https://localhost:8080/"
    },
    "id": "7XVEaJCPeuoZ",
    "outputId": "69c05c82-e01e-460a-ce8d-6dc2e77260c7"
   },
   "outputs": [],
   "source": [
    "y_pred = model.predict(X_test)\n",
    "y_pred[:5]"
   ]
  },
  {
   "cell_type": "code",
   "execution_count": 18,
   "metadata": {
    "colab": {
     "base_uri": "https://localhost:8080/"
    },
    "id": "BZFcEz0BezWm",
    "outputId": "ef07938e-e458-4648-ca99-42eb98c625a1"
   },
   "outputs": [],
   "source": [
    "y_classes = [np.argmax(element) for element in y_pred]\n",
    "y_classes[:5]"
   ]
  },
  {
   "cell_type": "code",
   "execution_count": 19,
   "metadata": {
    "colab": {
     "base_uri": "https://localhost:8080/"
    },
    "id": "ZJycjrd3ezZY",
    "outputId": "5ee25062-a6c3-4db1-f268-e03da2393ea2"
   },
   "outputs": [],
   "source": [
    "y_test[:5]"
   ]
  },
  {
   "cell_type": "code",
   "execution_count": 20,
   "metadata": {
    "colab": {
     "base_uri": "https://localhost:8080/",
     "height": 173
    },
    "id": "2kkGGGb_ezcL",
    "outputId": "d3e4a8cd-84c8-4181-ea13-0fb41541571d"
   },
   "outputs": [],
   "source": [
    "plot_sample(X_test, y_test,0)"
   ]
  },
  {
   "cell_type": "code",
   "execution_count": 21,
   "metadata": {
    "colab": {
     "base_uri": "https://localhost:8080/",
     "height": 35
    },
    "id": "jKIqRedOr5pl",
    "outputId": "b947469b-ae95-4632-82ef-1bf8e922194f"
   },
   "outputs": [],
   "source": [
    "classes[y_classes[0]]"
   ]
  },
  {
   "cell_type": "code",
   "execution_count": 22,
   "metadata": {},
   "outputs": [],
   "source": [
    "# save model and architecture to single file\n",
    "model.save(\"model.h5\")\n",
    "print(\"Saved model to disk\")"
   ]
  }
 ],
 "metadata": {
  "accelerator": "GPU",
  "colab": {
   "authorship_tag": "ABX9TyNmKgo9EjWtOVzOCgcgZBYK",
   "collapsed_sections": [],
   "name": "cifar_10.ipynb",
   "provenance": []
  },
  "kernelspec": {
   "display_name": "Python 3 (ipykernel)",
   "language": "python",
   "name": "python3"
  },
  "language_info": {
   "codemirror_mode": {
    "name": "ipython",
    "version": 3
   },
   "file_extension": ".py",
   "mimetype": "text/x-python",
   "name": "python",
   "nbconvert_exporter": "python",
   "pygments_lexer": "ipython3",
   "version": "3.10.9"
  }
 },
 "nbformat": 4,
 "nbformat_minor": 1
}
